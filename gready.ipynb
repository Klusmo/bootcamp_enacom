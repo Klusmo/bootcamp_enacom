{
 "cells": [
  {
   "cell_type": "code",
   "execution_count": 1,
   "metadata": {},
   "outputs": [],
   "source": [
    "capacity = 1000\n",
    "itens = [\n",
    "    {\n",
    "        \"op\": 1,\n",
    "        \"desc\": \"Ampliação da capacidade do armazém ZDP em 5%\",\n",
    "        \"cost\": 470,\n",
    "        \"value\": 410,\n",
    "    },\n",
    "    {\n",
    "        \"op\": 2,\n",
    "        \"desc\": \"Ampliação da capacidade do armazém MGL em 7%\",\n",
    "        \"cost\": 400,\n",
    "        \"value\": 330,\n",
    "    },\n",
    "    {\"op\": 3, \"desc\": \"Compra de empilhadeira\", \"cost\": 170, \"value\": 140},\n",
    "    {\"op\": 4, \"desc\": \"Projeto de P&D I\", \"cost\": 270, \"value\": 250},\n",
    "    {\"op\": 5, \"desc\": \"Projeto de P&D II\", \"cost\": 340, \"value\": 320},\n",
    "    {\"op\": 6, \"desc\": \"Aquisição de novos equipamentos\", \"cost\": 230, \"value\": 320},\n",
    "    {\"op\": 7, \"desc\": \"Capacitação de funcionários\", \"cost\": 50, \"value\": 90},\n",
    "    {\n",
    "        \"op\": 8,\n",
    "        \"desc\": \"Ampliação da estrutura de carga rodoviária\",\n",
    "        \"cost\": 440,\n",
    "        \"value\": 190,\n",
    "    },\n",
    "]"
   ]
  },
  {
   "cell_type": "code",
   "execution_count": 2,
   "metadata": {},
   "outputs": [],
   "source": [
    "def gready_knapsack(itens, capacity, pre_selected=[]):\n",
    "    itens.sort(key=lambda x: x[\"value\"] / x[\"cost\"], reverse=True)\n",
    "    pre_selected_itens = [item for item in itens if item[\"op\"] in pre_selected]\n",
    "    total_value = sum([item[\"value\"] for item in pre_selected_itens])\n",
    "    total_cost = sum([item[\"cost\"] for item in pre_selected_itens])\n",
    "    selected = pre_selected\n",
    "\n",
    "    for item in itens:\n",
    "        if item[\"op\"] in pre_selected:\n",
    "            continue\n",
    "        if total_cost + item[\"cost\"] <= capacity:\n",
    "            selected.append(item[\"op\"])\n",
    "            total_cost += item[\"cost\"]\n",
    "            total_value += item[\"value\"]\n",
    "\n",
    "    return (selected, total_value, total_cost)"
   ]
  },
  {
   "cell_type": "code",
   "execution_count": 3,
   "metadata": {},
   "outputs": [],
   "source": [
    "def greedy_knapsack_with_constraints(itens, capacity):\n",
    "    # if op 1 is selected, op 5 is not selected\n",
    "    # if op 2 is selected, op 4 is selected\n",
    "\n",
    "    constraints_op = [1, 5, 2, 4]\n",
    "\n",
    "    itens_cons = [item for item in itens if item[\"op\"] in constraints_op]\n",
    "    itens_n_cons = [item for item in itens if item[\"op\"] not in constraints_op]\n",
    "\n",
    "    item1 = [item for item in itens_cons if item[\"op\"] == 1][0]\n",
    "    item2 = [item for item in itens_cons if item[\"op\"] == 2][0]\n",
    "    item4 = [item for item in itens_cons if item[\"op\"] == 4][0]\n",
    "    item5 = [item for item in itens_cons if item[\"op\"] == 5][0]\n",
    "    item24 = {\n",
    "        \"op\": 24,\n",
    "        \"desc\": \"\",\n",
    "        \"cost\": item2[\"cost\"] + item4[\"cost\"],\n",
    "        \"value\": item2[\"value\"] + item4[\"value\"],\n",
    "    }\n",
    "\n",
    "    solution = []\n",
    "    # no op is selected\n",
    "    solution.append(gready_knapsack(itens_n_cons, capacity))\n",
    "\n",
    "    # op 1 is selected, 24 are not selected\n",
    "    itens_to_solve = itens_n_cons + [item1]\n",
    "    solution.append(gready_knapsack(itens_to_solve, capacity, [item1[\"op\"]]))\n",
    "\n",
    "    # op 5 is selected, 24 are not selected\n",
    "    itens_to_solve = itens_n_cons + [item5]\n",
    "    solution.append(gready_knapsack(itens_to_solve, capacity, [item5[\"op\"]]))\n",
    "\n",
    "    # op 24 is selected\n",
    "    itens_to_solve = itens_n_cons + [item24]\n",
    "    solution.append(gready_knapsack(itens_to_solve, capacity, [item24[\"op\"]]))\n",
    "\n",
    "    # op 1 and 24 are selected\n",
    "    itens_to_solve = itens_n_cons + [item1, item24]\n",
    "    solution.append(\n",
    "        gready_knapsack(itens_to_solve, capacity, [item1[\"op\"], item24[\"op\"]])\n",
    "    )\n",
    "\n",
    "    # op 5 and 24 are selected\n",
    "    itens_to_solve = itens_n_cons + [item5, item24]\n",
    "    solution.append(\n",
    "        gready_knapsack(itens_to_solve, capacity, [item5[\"op\"], item24[\"op\"]])\n",
    "    )\n",
    "\n",
    "    for s in solution:\n",
    "        if 24 in s[0]:\n",
    "            s[0].remove(24)\n",
    "            s[0].append(2)\n",
    "            s[0].append(4)\n",
    "        print(f\"Selected: {s[0]} - Total value: {s[1]} - Total cost: {s[2]}\")\n",
    "\n",
    "    # return the best solution\n",
    "    return max(solution, key=lambda x: x[1])"
   ]
  },
  {
   "cell_type": "code",
   "execution_count": 4,
   "metadata": {},
   "outputs": [],
   "source": [
    "def print_table(items):\n",
    "    print(f\"| Index | {'Descrição':50} | {'Custo':7} | {'Valor':7} |\")\n",
    "    print(f\"| {'-'*5} | {'-'*50} | {'-'*7} | {'-'*7} |\")\n",
    "    for item in items:\n",
    "        print(\n",
    "            f'| {item[\"op\"]:5} | {item[\"desc\"]:50} | {item[\"cost\"]*1000:7n} | {item[\"value\"]*1000:7n} |'\n",
    "        )\n",
    "    print(f\"| {'-'*5} | {'-'*50} | {'-'*7} | {'-'*7} |\", end=\"\\n\\n\")"
   ]
  },
  {
   "cell_type": "code",
   "execution_count": 5,
   "metadata": {},
   "outputs": [
    {
     "name": "stdout",
     "output_type": "stream",
     "text": [
      "Analisando os tipos de investimentos disponíveis: \n",
      "| Index | Descrição                                          | Custo   | Valor   |\n",
      "| ----- | -------------------------------------------------- | ------- | ------- |\n",
      "|     1 | Ampliação da capacidade do armazém ZDP em 5%       |  470000 |  410000 |\n",
      "|     2 | Ampliação da capacidade do armazém MGL em 7%       |  400000 |  330000 |\n",
      "|     3 | Compra de empilhadeira                             |  170000 |  140000 |\n",
      "|     4 | Projeto de P&D I                                   |  270000 |  250000 |\n",
      "|     5 | Projeto de P&D II                                  |  340000 |  320000 |\n",
      "|     6 | Aquisição de novos equipamentos                    |  230000 |  320000 |\n",
      "|     7 | Capacitação de funcionários                        |   50000 |   90000 |\n",
      "|     8 | Ampliação da estrutura de carga rodoviária         |  440000 |  190000 |\n",
      "| ----- | -------------------------------------------------- | ------- | ------- |\n",
      "\n",
      "Capacidade máxima de investimento: 1000000\n",
      "\n"
     ]
    }
   ],
   "source": [
    "print(\"Analisando os tipos de investimentos disponíveis: \")\n",
    "# print md table\n",
    "print_table(itens)\n",
    "\n",
    "# print max capacity value with comma separator\n",
    "print(f\"Capacidade máxima de investimento: {capacity*1000:n}\", end=\"\\n\\n\")"
   ]
  },
  {
   "cell_type": "code",
   "execution_count": 7,
   "metadata": {},
   "outputs": [
    {
     "name": "stdout",
     "output_type": "stream",
     "text": [
      "Selected: [7, 6, 5, 4, 3, 8] - Total value: 740 - Total cost: 890\n",
      "Selected: [1, 7, 6, 3] - Total value: 960 - Total cost: 920\n",
      "Selected: [5, 7, 6, 3] - Total value: 870 - Total cost: 790\n",
      "Selected: [7, 6, 2, 4] - Total value: 990 - Total cost: 950\n",
      "Selected: [1, 2, 4] - Total value: 990 - Total cost: 1140\n",
      "Selected: [5, 2, 4] - Total value: 900 - Total cost: 1010\n",
      "\n",
      "Investimentos selecionados:\n",
      "| Index | Descrição                                          | Custo   | Valor   |\n",
      "| ----- | -------------------------------------------------- | ------- | ------- |\n",
      "|     7 | Capacitação de funcionários                        |   50000 |   90000 |\n",
      "|     6 | Aquisição de novos equipamentos                    |  230000 |  320000 |\n",
      "|     4 | Projeto de P&D I                                   |  270000 |  250000 |\n",
      "|     2 | Ampliação da capacidade do armazém MGL em 7%       |  400000 |  330000 |\n",
      "| ----- | -------------------------------------------------- | ------- | ------- |\n",
      "\n",
      "Valor total dos investimentos selecionados: 990000\n",
      "Custo total dos investimentos selecionados: 950000\n"
     ]
    }
   ],
   "source": [
    "#selected, total_value, total_cost = gready_knapsack(itens, capacity)\n",
    "selected, total_value, total_cost = greedy_knapsack_with_constraints(itens, capacity)\n",
    "\n",
    "print(\"\\nInvestimentos selecionados:\")\n",
    "\n",
    "selected_item = [item for item in itens if item[\"op\"] in selected]\n",
    "print_table(selected_item)\n",
    "\n",
    "# print total value with comma separator\n",
    "print(f\"Valor total dos investimentos selecionados: {total_value*1000:n}\")\n",
    "print(f\"Custo total dos investimentos selecionados: {total_cost*1000:n}\")"
   ]
  }
 ],
 "metadata": {
  "kernelspec": {
   "display_name": "Python 3",
   "language": "python",
   "name": "python3"
  },
  "language_info": {
   "codemirror_mode": {
    "name": "ipython",
    "version": 3
   },
   "file_extension": ".py",
   "mimetype": "text/x-python",
   "name": "python",
   "nbconvert_exporter": "python",
   "pygments_lexer": "ipython3",
   "version": "3.10.4"
  },
  "orig_nbformat": 4,
  "vscode": {
   "interpreter": {
    "hash": "3ad933181bd8a04b432d3370b9dc3b0662ad032c4dfaa4e4f1596c548f763858"
   }
  }
 },
 "nbformat": 4,
 "nbformat_minor": 2
}
